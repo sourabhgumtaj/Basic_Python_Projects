{
  "cells": [
    {
      "cell_type": "markdown",
      "id": "303d18ca",
      "metadata": {
        "id": "303d18ca"
      },
      "source": [
        "## OOP project"
      ]
    },
    {
      "cell_type": "markdown",
      "id": "5cada111",
      "metadata": {
        "id": "5cada111"
      },
      "source": [
        "A Bike Rental System\n",
        "\n",
        "A full fledged bike rental system implemented in Python using object oriented programming.\n",
        "\n",
        "Customers can see available bikes on the shop.\n",
        "Rent bikes on daily basis Rs.100 per day.\n",
        "Rent bikes on weekly basis Rs.500 per week.\n",
        "Family Rental, a promotion that can include from 3 to 5 Rentals (of any type) with a discount of 30% of the total price.\n",
        "\n",
        "The bike rental shop can issue a bill when customer decides to return the bike,\n",
        "display available inventory ,take requests on daily and weekly basis by cross verifying stock.\n",
        "\n",
        "For simplicity we assume that\n",
        "Any customer requests rentals of only one type i.e daily or weekly and is free to choose the number of bikes he/she wants.\n",
        "Requested bikes should be less than available stock."
      ]
    },
    {
      "cell_type": "code",
      "execution_count": null,
      "id": "81b2891a",
      "metadata": {
        "id": "81b2891a"
      },
      "outputs": [],
      "source": []
    },
    {
      "cell_type": "markdown",
      "id": "abae9162",
      "metadata": {
        "id": "abae9162"
      },
      "source": [
        "## Step 1\n",
        "\n",
        "Create a parent class `BikeRental`. Define `stock` as `class attribute` and assign value 100 to it.\n",
        "\n",
        "This class should not take any other attribute and when the object is created, it should display the message \"Welcome to rental bike shop.\"\n",
        "\n",
        "Define a method `displaystock` inside this class and when this method is called, it should display the total number of stock available."
      ]
    },
    {
      "cell_type": "code",
      "execution_count": 1,
      "id": "8816e06c",
      "metadata": {
        "id": "8816e06c"
      },
      "outputs": [],
      "source": [
        "class BikeRental():\n",
        "    def __init__ (self,stock=100):\n",
        "      self.stock=stock\n",
        "      print('Welcome to rental bike shop.')\n",
        "    def displaystock(self):\n",
        "      print(self.stock)"
      ]
    },
    {
      "cell_type": "markdown",
      "id": "2ca3fb5c",
      "metadata": {
        "id": "2ca3fb5c"
      },
      "source": [
        "Create an object `bike_shop` of above class."
      ]
    },
    {
      "cell_type": "code",
      "execution_count": 2,
      "id": "5184fc96",
      "metadata": {
        "colab": {
          "base_uri": "https://localhost:8080/"
        },
        "id": "5184fc96",
        "outputId": "3b580e27-d138-4c9b-bf81-9085e9c19d6d"
      },
      "outputs": [
        {
          "output_type": "stream",
          "name": "stdout",
          "text": [
            "Welcome to rental bike shop.\n"
          ]
        }
      ],
      "source": [
        "bike_shop=BikeRental()"
      ]
    },
    {
      "cell_type": "code",
      "execution_count": 2,
      "id": "ef59df60",
      "metadata": {
        "id": "ef59df60"
      },
      "outputs": [],
      "source": []
    },
    {
      "cell_type": "markdown",
      "id": "73d006a8",
      "metadata": {
        "id": "73d006a8"
      },
      "source": [
        "Check if above created object can access the `class attribute` `stock`."
      ]
    },
    {
      "cell_type": "code",
      "execution_count": 3,
      "id": "a96da206",
      "metadata": {
        "scrolled": true,
        "id": "a96da206"
      },
      "outputs": [],
      "source": [
        "## your code goes here ##"
      ]
    },
    {
      "cell_type": "code",
      "execution_count": 4,
      "id": "4460bd03",
      "metadata": {
        "colab": {
          "base_uri": "https://localhost:8080/"
        },
        "id": "4460bd03",
        "outputId": "8a1f0f46-3c77-450b-98ae-93d6804064cc"
      },
      "outputs": [
        {
          "output_type": "execute_result",
          "data": {
            "text/plain": [
              "100"
            ]
          },
          "metadata": {},
          "execution_count": 4
        }
      ],
      "source": [
        "bike_shop.stock"
      ]
    },
    {
      "cell_type": "markdown",
      "id": "a702f97d",
      "metadata": {
        "id": "a702f97d"
      },
      "source": [
        "Call the method `displaystock` using above created object `bike_shop`."
      ]
    },
    {
      "cell_type": "code",
      "execution_count": 5,
      "id": "c4dc35b0",
      "metadata": {
        "id": "c4dc35b0"
      },
      "outputs": [],
      "source": [
        "## your code goes here ##"
      ]
    },
    {
      "cell_type": "code",
      "execution_count": 6,
      "id": "6a859671",
      "metadata": {
        "colab": {
          "base_uri": "https://localhost:8080/"
        },
        "id": "6a859671",
        "outputId": "79e58887-3f10-4a00-d082-a91598aae14a"
      },
      "outputs": [
        {
          "output_type": "stream",
          "name": "stdout",
          "text": [
            "100\n"
          ]
        }
      ],
      "source": [
        "bike_shop.displaystock()"
      ]
    },
    {
      "cell_type": "markdown",
      "id": "d3a33de1",
      "metadata": {
        "id": "d3a33de1"
      },
      "source": [
        "## Step 2\n",
        "\n",
        "Create a derived class `Customer` to inherit the methods from `BikeRental` class.\n",
        "Define `bill` as `class attribute`and set it's initial value as zero.\n",
        "\n",
        "This class has `number_of_bikes`, `rentalBasis` (daily or weekly) and `number_of_days_or_weeks` as attributes."
      ]
    },
    {
      "cell_type": "code",
      "execution_count": 7,
      "id": "50196270",
      "metadata": {
        "id": "50196270"
      },
      "outputs": [],
      "source": [
        "## your code goes here ##"
      ]
    },
    {
      "cell_type": "code",
      "execution_count": 8,
      "id": "363883ea",
      "metadata": {
        "id": "363883ea"
      },
      "outputs": [],
      "source": [
        "class Customer(BikeRental):\n",
        "    bill=0\n",
        "    def __init__(self,bill,number_of_bikes,rentalBasis,number_of_days_or_weeks): \n",
        "        # self.bill=bill=0\n",
        "        self.number_of_bikes=number_of_bikes\n",
        "        self.rentalBasis=rentalBasis\n",
        "        self.number_of_days_or_weeks=number_of_days_or_weeks"
      ]
    },
    {
      "cell_type": "markdown",
      "id": "98a400fe",
      "metadata": {
        "id": "98a400fe"
      },
      "source": [
        "Define a function `rentBike`, it should have following conditions:\n",
        "\n",
        "- if `number_of_bikes` is less than or equal to zero, it should display the message \"Number of bikes should be positive!\".\n",
        "\n",
        "- if `number_of_bikes` is greater than the `stock`, it should display the `number_of_bikes` available to rent.\n",
        "\n",
        "- Otherwise display the total `number_of_bikes` rented by the customer. Do not forget to update the value of `stock` i.e. subtract the `number_of_bikes` rented from stock and display the updated `stock`."
      ]
    },
    {
      "cell_type": "code",
      "execution_count": 9,
      "id": "0f15d993",
      "metadata": {
        "id": "0f15d993"
      },
      "outputs": [],
      "source": [
        "## your code goes here ##"
      ]
    },
    {
      "cell_type": "code",
      "execution_count": 10,
      "id": "e66fb261",
      "metadata": {
        "id": "e66fb261"
      },
      "outputs": [],
      "source": [
        "def rentBike(self):\n",
        "  super().__init__()\n",
        "  if self.number_of_bikes<=0:\n",
        "    print(\"Number of bikes should be positive!\")\n",
        "  elif self.number_of_bikes>self.stock:\n",
        "    print(\"Number of bikes available to rent\", self.number_of_bikes)\n",
        "  else:\n",
        "    av=self.stock-self.number_of_bikes\n",
        "    print(av)\n",
        "# rentBike()"
      ]
    },
    {
      "cell_type": "markdown",
      "id": "cb22ec0f",
      "metadata": {
        "id": "cb22ec0f"
      },
      "source": [
        "Define a function `returnBike` to return the total bill of customer.\n",
        "- Check if `rentalBasis` is ' daily ' or ' weekly ' and accordingly calculate the bill. Rent on ' daily ' basis is Rs. 100 per bike and for ' weekly ' basis it is Rs. 500 per bike.\n",
        "\n",
        "- If `number_of_bikes` rented by customer is between 3 to 5 (both values inclusive), 30% discount is offered on total bill. So it should display the message \"You are eligible for Family rental promotion of 30% discount\"."
      ]
    },
    {
      "cell_type": "code",
      "execution_count": 11,
      "id": "48be1e59",
      "metadata": {
        "id": "48be1e59"
      },
      "outputs": [],
      "source": [
        "## your code goes here ##"
      ]
    },
    {
      "cell_type": "code",
      "execution_count": 12,
      "id": "29935c98",
      "metadata": {
        "id": "29935c98"
      },
      "outputs": [],
      "source": [
        "def returnBike(self):\n",
        "  if self.rentalBasis=='daily':\n",
        "    rent=100*self.number_of_days_or_weeks\n",
        "  elif self.rentalBasis=='weekly': \n",
        "    rent=500*self.number_of_days_or_weeks\n",
        "  elif 6>self.number_of_bikes>4:\n",
        "    rent1=0.30\n",
        "    print('You are eligible for Family rental promotion of 30% discount')\n"
      ]
    },
    {
      "cell_type": "markdown",
      "id": "fa66397a",
      "metadata": {
        "id": "fa66397a"
      },
      "source": [
        "## Step 3\n",
        "\n",
        "Write complete `Customer` class using above defined functions `returnBike` and `rentBike` inside it as methods."
      ]
    },
    {
      "cell_type": "code",
      "execution_count": 13,
      "id": "e1c7c3f5",
      "metadata": {
        "id": "e1c7c3f5"
      },
      "outputs": [],
      "source": [
        "## your code goes here ##"
      ]
    },
    {
      "cell_type": "code",
      "execution_count": 14,
      "id": "b8753564",
      "metadata": {
        "id": "b8753564"
      },
      "outputs": [],
      "source": [
        "class Customer(BikeRental):\n",
        "    bill=0\n",
        "    def __init__(self,number_of_bikes,rentalBasis,number_of_days_or_weeks): \n",
        "        self.number_of_bikes=number_of_bikes\n",
        "        self.rentalBasis=rentalBasis\n",
        "        self.number_of_days_or_weeks=number_of_days_or_weeks\n",
        "        print('Welcome to BikeRentaL')\n",
        "\n",
        "    def rentBike(self):\n",
        "      super().__init__()\n",
        "      if self.number_of_bikes<=0:\n",
        "        print(\"Number of bikes should be positive!\")\n",
        "      elif self.number_of_bikes>self.stock:\n",
        "        print(\"Number of bikes available to rent\", self.number_of_bikes)\n",
        "      else:\n",
        "        av=self.stock-self.number_of_bikes\n",
        "        print(av)\n",
        "\n",
        "    def returnBike(self):\n",
        "      if self.rentalBasis=='day':\n",
        "        if 6>self.number_of_bikes>4:\n",
        "          print('You are eligible for Family rental promotion of 30% discount')\n",
        "          rent1=100*self.number_of_days_or_weeks*self.number_of_bikes\n",
        "          rent=rent1-(0.30*rent1)\n",
        "        else:\n",
        "         rent=100*self.number_of_days_or_weeks*self.number_of_bikes\n",
        "\n",
        "      elif self.rentalBasis=='week': \n",
        "        if 6>self.number_of_bikes>4:\n",
        "         print('You are eligible for Family rental promotion of 30% discount')\n",
        "         rent1=500*self.number_of_days_or_weeks*self.number_of_bikes\n",
        "         rent=rent1-(0.30*rent1)\n",
        "        else:\n",
        "         rent1=500*self.number_of_days_or_weeks*self.number_of_bikes\n",
        "        \n"
      ]
    },
    {
      "cell_type": "code",
      "source": [
        "customer_1 = Customer(2,'day',5)\n",
        "customer_1.rentBike"
      ],
      "metadata": {
        "id": "wGRSzEdBkvR1",
        "colab": {
          "base_uri": "https://localhost:8080/"
        },
        "outputId": "45ef059a-ba91-4e3f-800e-a337679edf58"
      },
      "id": "wGRSzEdBkvR1",
      "execution_count": 15,
      "outputs": [
        {
          "output_type": "stream",
          "name": "stdout",
          "text": [
            "Welcome to BikeRentaL\n"
          ]
        },
        {
          "output_type": "execute_result",
          "data": {
            "text/plain": [
              "<bound method Customer.rentBike of <__main__.Customer object at 0x7f1406f6bbd0>>"
            ]
          },
          "metadata": {},
          "execution_count": 15
        }
      ]
    },
    {
      "cell_type": "markdown",
      "id": "dea7483f",
      "metadata": {
        "id": "dea7483f"
      },
      "source": [
        "## Step 4\n",
        "\n",
        "Check your `Bike Rental System` for test-case objects given below :\n",
        "\n",
        "For first four customers - check all the three attribute values and call `rentBike` and `returnBike` methods. \n",
        "\n",
        "- customer_1 = Customer(2,'day',5)\n",
        "\n",
        "- customer_2 = Customer(1,'week',3)\n",
        "\n",
        "- customer_3 = Customer(4,'day',3)  - Is family discount applicable here ?\n",
        "\n",
        "- customer_4 = Customer(3,'week',3) - Is family discount applicable here ?\n",
        "\n",
        "Call `rentBike` and `displaystock` methods for test-case objects given below :\n",
        "\n",
        "- customer_5 = Customer(120,'week',3)\n",
        "\n",
        "- customer_6 = Customer(0,'week',3)\n",
        "\n",
        "- customer_7 = Customer(-5,'week',3)\n",
        "\n",
        "- customer_8 = Customer(1,'day',3)"
      ]
    },
    {
      "cell_type": "code",
      "execution_count": 16,
      "id": "40d0a7aa",
      "metadata": {
        "id": "40d0a7aa"
      },
      "outputs": [],
      "source": [
        "class BikeRental():\n",
        "    def __init__ (self,stock=100):\n",
        "      self.stock=stock\n",
        "      print('Welcome to rental bike shop.')\n",
        "    def displaystock(self):\n",
        "      print(self.stock)"
      ]
    },
    {
      "cell_type": "code",
      "source": [
        "class Customer(BikeRental):\n",
        "    bill=0\n",
        "    def __init__(self,number_of_bikes,rentalBasis,number_of_days_or_weeks): \n",
        "        self.number_of_bikes=number_of_bikes\n",
        "        self.rentalBasis=rentalBasis\n",
        "        self.number_of_days_or_weeks=number_of_days_or_weeks\n",
        "        print('Welcome to BikeRentaL')\n",
        "        \n",
        "    def rentBike(self):\n",
        "      super().__init__()\n",
        "      if self.number_of_bikes<=0:\n",
        "        print(\"Number of bikes should be positive!\")\n",
        "      elif self.number_of_bikes>self.stock:\n",
        "        print(\"Number of bikes available to rent\", self.number_of_bikes)\n",
        "        raise ValueError\n",
        "        print('Type correct Number')           #>>>>>>>>>>>>>>>>>>>>>>>>>>>>>>>\n",
        "      else:\n",
        "        av=self.stock-self.number_of_bikes\n",
        "        print('Available to rent',av)\n",
        "\n",
        "    def returnBike(self):\n",
        "      if self.rentalBasis=='day':\n",
        "        if 5>=self.number_of_bikes>=3:\n",
        "          print('You are eligible for Family rental promotion of 30% discount')\n",
        "          rent1=100*self.number_of_days_or_weeks*self.number_of_bikes\n",
        "          rent=rent1-(0.30*rent1)\n",
        "        elif self.number_of_bikes<1:\n",
        "            rent=0\n",
        "        else:\n",
        "         rent=100*self.number_of_days_or_weeks*self.number_of_bikes\n",
        "        \n",
        "      elif self.rentalBasis=='week': \n",
        "        if 5>=self.number_of_bikes>=3:\n",
        "         print('You are eligible for Family rental promotion of 30% discount')\n",
        "         rent1=500*self.number_of_days_or_weeks*self.number_of_bikes\n",
        "         rent=rent1-(0.30*rent1)\n",
        "        elif self.number_of_bikes<1:\n",
        "          rent=0\n",
        "        else:\n",
        "         rent=500*self.number_of_days_or_weeks*self.number_of_bikes\n",
        "      print('Total Rent:',rent)"
      ],
      "metadata": {
        "id": "pDHsI7kJmgnK"
      },
      "id": "pDHsI7kJmgnK",
      "execution_count": 17,
      "outputs": []
    },
    {
      "cell_type": "code",
      "source": [
        "customer_1 = Customer(2,'day',5)\n",
        "customer_1.rentBike()\n",
        "customer_1.returnBike()"
      ],
      "metadata": {
        "colab": {
          "base_uri": "https://localhost:8080/"
        },
        "id": "XFC-VJbBmmF4",
        "outputId": "b633fcd5-eaa8-455d-a66d-d06560e0635f"
      },
      "id": "XFC-VJbBmmF4",
      "execution_count": 18,
      "outputs": [
        {
          "output_type": "stream",
          "name": "stdout",
          "text": [
            "Welcome to BikeRentaL\n",
            "Welcome to rental bike shop.\n",
            "Available to rent 98\n",
            "Total Rent: 1000\n"
          ]
        }
      ]
    },
    {
      "cell_type": "code",
      "source": [
        "customer_2 = Customer(1,'week',3)\n",
        "customer_2.rentBike()\n",
        "customer_2.returnBike()"
      ],
      "metadata": {
        "colab": {
          "base_uri": "https://localhost:8080/"
        },
        "id": "9-CGNreynGY8",
        "outputId": "b971b54b-3251-4460-c910-d2b728f0b1ff"
      },
      "id": "9-CGNreynGY8",
      "execution_count": 19,
      "outputs": [
        {
          "output_type": "stream",
          "name": "stdout",
          "text": [
            "Welcome to BikeRentaL\n",
            "Welcome to rental bike shop.\n",
            "Available to rent 99\n",
            "Total Rent: 1500\n"
          ]
        }
      ]
    },
    {
      "cell_type": "code",
      "source": [
        "customer_3 = Customer(4,'day',3)\n",
        "customer_3.rentBike()\n",
        "customer_3.returnBike()"
      ],
      "metadata": {
        "colab": {
          "base_uri": "https://localhost:8080/"
        },
        "id": "voajClfnolaB",
        "outputId": "2fdd7b33-c0d7-4644-bc0e-f1a643abaf78"
      },
      "id": "voajClfnolaB",
      "execution_count": 20,
      "outputs": [
        {
          "output_type": "stream",
          "name": "stdout",
          "text": [
            "Welcome to BikeRentaL\n",
            "Welcome to rental bike shop.\n",
            "Available to rent 96\n",
            "You are eligible for Family rental promotion of 30% discount\n",
            "Total Rent: 840.0\n"
          ]
        }
      ]
    },
    {
      "cell_type": "code",
      "source": [
        "customer_4 = Customer(3,'week',3)\n",
        "customer_4.rentBike()\n",
        "customer_4.returnBike()"
      ],
      "metadata": {
        "colab": {
          "base_uri": "https://localhost:8080/"
        },
        "id": "QXNZYH1JqXry",
        "outputId": "264304cd-93b3-41a2-cfa3-9c9528c65668"
      },
      "id": "QXNZYH1JqXry",
      "execution_count": 21,
      "outputs": [
        {
          "output_type": "stream",
          "name": "stdout",
          "text": [
            "Welcome to BikeRentaL\n",
            "Welcome to rental bike shop.\n",
            "Available to rent 97\n",
            "You are eligible for Family rental promotion of 30% discount\n",
            "Total Rent: 3150.0\n"
          ]
        }
      ]
    },
    {
      "cell_type": "code",
      "source": [
        "customer_5 = Customer(120,'week',3)\n",
        "customer_5.rentBike()\n",
        "customer_5.returnBike()"
      ],
      "metadata": {
        "id": "JXy5nVUnqYP4",
        "colab": {
          "base_uri": "https://localhost:8080/",
          "height": 373
        },
        "outputId": "8b1df3de-9982-4632-b478-9512dbf0d986"
      },
      "id": "JXy5nVUnqYP4",
      "execution_count": 22,
      "outputs": [
        {
          "output_type": "stream",
          "name": "stdout",
          "text": [
            "Welcome to BikeRentaL\n",
            "Welcome to rental bike shop.\n",
            "Number of bikes available to rent 120\n"
          ]
        },
        {
          "output_type": "error",
          "ename": "ValueError",
          "evalue": "ignored",
          "traceback": [
            "\u001b[0;31m---------------------------------------------------------------------------\u001b[0m",
            "\u001b[0;31mValueError\u001b[0m                                Traceback (most recent call last)",
            "\u001b[0;32m<ipython-input-22-090cb35b7b9a>\u001b[0m in \u001b[0;36m<module>\u001b[0;34m\u001b[0m\n\u001b[1;32m      1\u001b[0m \u001b[0mcustomer_5\u001b[0m \u001b[0;34m=\u001b[0m \u001b[0mCustomer\u001b[0m\u001b[0;34m(\u001b[0m\u001b[0;36m120\u001b[0m\u001b[0;34m,\u001b[0m\u001b[0;34m'week'\u001b[0m\u001b[0;34m,\u001b[0m\u001b[0;36m3\u001b[0m\u001b[0;34m)\u001b[0m\u001b[0;34m\u001b[0m\u001b[0;34m\u001b[0m\u001b[0m\n\u001b[0;32m----> 2\u001b[0;31m \u001b[0mcustomer_5\u001b[0m\u001b[0;34m.\u001b[0m\u001b[0mrentBike\u001b[0m\u001b[0;34m(\u001b[0m\u001b[0;34m)\u001b[0m\u001b[0;34m\u001b[0m\u001b[0;34m\u001b[0m\u001b[0m\n\u001b[0m\u001b[1;32m      3\u001b[0m \u001b[0mcustomer_5\u001b[0m\u001b[0;34m.\u001b[0m\u001b[0mreturnBike\u001b[0m\u001b[0;34m(\u001b[0m\u001b[0;34m)\u001b[0m\u001b[0;34m\u001b[0m\u001b[0;34m\u001b[0m\u001b[0m\n",
            "\u001b[0;32m<ipython-input-17-cb7f48859aba>\u001b[0m in \u001b[0;36mrentBike\u001b[0;34m(self)\u001b[0m\n\u001b[1;32m     13\u001b[0m       \u001b[0;32melif\u001b[0m \u001b[0mself\u001b[0m\u001b[0;34m.\u001b[0m\u001b[0mnumber_of_bikes\u001b[0m\u001b[0;34m>\u001b[0m\u001b[0mself\u001b[0m\u001b[0;34m.\u001b[0m\u001b[0mstock\u001b[0m\u001b[0;34m:\u001b[0m\u001b[0;34m\u001b[0m\u001b[0;34m\u001b[0m\u001b[0m\n\u001b[1;32m     14\u001b[0m         \u001b[0mprint\u001b[0m\u001b[0;34m(\u001b[0m\u001b[0;34m\"Number of bikes available to rent\"\u001b[0m\u001b[0;34m,\u001b[0m \u001b[0mself\u001b[0m\u001b[0;34m.\u001b[0m\u001b[0mnumber_of_bikes\u001b[0m\u001b[0;34m)\u001b[0m\u001b[0;34m\u001b[0m\u001b[0;34m\u001b[0m\u001b[0m\n\u001b[0;32m---> 15\u001b[0;31m         \u001b[0;32mraise\u001b[0m \u001b[0mValueError\u001b[0m\u001b[0;34m\u001b[0m\u001b[0;34m\u001b[0m\u001b[0m\n\u001b[0m\u001b[1;32m     16\u001b[0m         \u001b[0mprint\u001b[0m\u001b[0;34m(\u001b[0m\u001b[0;34m'Type correct Number'\u001b[0m\u001b[0;34m)\u001b[0m           \u001b[0;31m#>>>>>>>>>>>>>>>>>>>>>>>>>>>>>>>\u001b[0m\u001b[0;34m\u001b[0m\u001b[0;34m\u001b[0m\u001b[0m\n\u001b[1;32m     17\u001b[0m       \u001b[0;32melse\u001b[0m\u001b[0;34m:\u001b[0m\u001b[0;34m\u001b[0m\u001b[0;34m\u001b[0m\u001b[0m\n",
            "\u001b[0;31mValueError\u001b[0m: "
          ]
        }
      ]
    },
    {
      "cell_type": "code",
      "source": [
        "customer_6 = Customer(0,'week',3)\n",
        "customer_6.rentBike()\n",
        "customer_6.returnBike()"
      ],
      "metadata": {
        "id": "ojrPrbTJroBF"
      },
      "id": "ojrPrbTJroBF",
      "execution_count": null,
      "outputs": []
    },
    {
      "cell_type": "code",
      "source": [
        "customer_7 = Customer(-5,'week',3)\n",
        "customer_7.rentBike()\n",
        "customer_7.returnBike()"
      ],
      "metadata": {
        "id": "AmbKughLszUE"
      },
      "id": "AmbKughLszUE",
      "execution_count": null,
      "outputs": []
    },
    {
      "cell_type": "code",
      "source": [
        "customer_8 = Customer(1,'day',3)\n",
        "customer_8.rentBike()\n",
        "customer_8.returnBike()"
      ],
      "metadata": {
        "id": "2-epKLUqxMTc"
      },
      "id": "2-epKLUqxMTc",
      "execution_count": null,
      "outputs": []
    }
  ],
  "metadata": {
    "kernelspec": {
      "display_name": "Python 3 (ipykernel)",
      "language": "python",
      "name": "python3"
    },
    "language_info": {
      "codemirror_mode": {
        "name": "ipython",
        "version": 3
      },
      "file_extension": ".py",
      "mimetype": "text/x-python",
      "name": "python",
      "nbconvert_exporter": "python",
      "pygments_lexer": "ipython3",
      "version": "3.8.10"
    },
    "colab": {
      "provenance": [],
      "collapsed_sections": []
    }
  },
  "nbformat": 4,
  "nbformat_minor": 5
}