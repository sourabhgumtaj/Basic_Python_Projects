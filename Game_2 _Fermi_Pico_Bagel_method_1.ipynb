{
  "cells": [
    {
      "cell_type": "markdown",
      "id": "0b55c9a8",
      "metadata": {
        "id": "0b55c9a8"
      },
      "source": [
        "## Fermi Pico Bagel\n",
        "Try playing game and understand the rules : https://communicrossings.com/html/js/pfb.htm\n",
        "\n",
        "## Step 1\n",
        "Store any number in string format(number to be guessed by player) in a variable `original_number`.\n",
        "\n",
        "For Example: original_number = '123'\n"
      ]
    },
    {
      "cell_type": "code",
      "execution_count": null,
      "id": "57a0a2d0",
      "metadata": {
        "id": "57a0a2d0",
        "colab": {
          "base_uri": "https://localhost:8080/"
        },
        "outputId": "ed36803a-93d3-4a59-9a70-beddd9737280"
      },
      "outputs": [
        {
          "name": "stdout",
          "output_type": "stream",
          "text": [
            "Number123\n"
          ]
        }
      ],
      "source": [
        "original_number = str(input('Number'))\n"
      ]
    },
    {
      "cell_type": "markdown",
      "id": "fd43340c",
      "metadata": {
        "id": "fd43340c"
      },
      "source": [
        "## Step 2\n",
        "Take a number as user input and save it in a variable `guess_number`.(Make sure that the datatype of guess_number is same as of original number i.e- `str`)"
      ]
    },
    {
      "cell_type": "code",
      "execution_count": null,
      "id": "2e0075a7",
      "metadata": {
        "id": "2e0075a7",
        "colab": {
          "base_uri": "https://localhost:8080/"
        },
        "outputId": "585f2439-b166-4052-a2c6-735e278686d0"
      },
      "outputs": [
        {
          "name": "stdout",
          "output_type": "stream",
          "text": [
            "Type132\n"
          ]
        }
      ],
      "source": [
        "guess_number = str(input('Type'))"
      ]
    },
    {
      "cell_type": "markdown",
      "id": "22318243",
      "metadata": {
        "id": "22318243"
      },
      "source": [
        "## Step 3\n",
        "Check if total number of digits in `original_number` and `guess_number` is not same(Use `len()` function) then ask user for valid input.(First use `len()` to get total digits in `original_number` and `guess_number`.)"
      ]
    },
    {
      "cell_type": "code",
      "execution_count": null,
      "id": "258e2971",
      "metadata": {
        "id": "258e2971"
      },
      "outputs": [],
      "source": [
        "if len(original_number) != len(guess_number):\n",
        "  print('Enter valid input')"
      ]
    },
    {
      "cell_type": "markdown",
      "id": "0c064bda",
      "metadata": {
        "id": "0c064bda"
      },
      "source": [
        "## Step 4\n",
        "Using `set()`, check if the digits are repeated in a `guess_number` .\n",
        "Note that datatype `set` allows unique values only.\n",
        "\n",
        "For ex. if `user_input`is 122, then it should print the string 'Duplicate number'  as digit 2 is repeated."
      ]
    },
    {
      "cell_type": "code",
      "execution_count": null,
      "id": "7b5ef10d",
      "metadata": {
        "id": "7b5ef10d"
      },
      "outputs": [],
      "source": [
        "if len(set(guess_number))<3:\n",
        "  print('Duplicate number')\n"
      ]
    },
    {
      "cell_type": "markdown",
      "id": "0514b8d9",
      "metadata": {
        "id": "0514b8d9"
      },
      "source": [
        "## Step 5\n",
        "Check winning condition i.e. if both `guess_number` and `original_number` are same, then print 'Fermi' as many number of times as number of digits in a number and print ' You win !! '.\n"
      ]
    },
    {
      "cell_type": "code",
      "execution_count": null,
      "id": "ab9379a5",
      "metadata": {
        "id": "ab9379a5"
      },
      "outputs": [],
      "source": [
        "if guess_number == original_number:\n",
        "  print('You win')\n",
        "\n"
      ]
    },
    {
      "cell_type": "markdown",
      "id": "96eca378",
      "metadata": {
        "id": "96eca378"
      },
      "source": [
        "## Step 6\n",
        "Create empty list called `output` where we will store the output in the form of list.\n",
        "\n",
        "For example: output = [ ' Fermi ', ' Pico ' ,' Pico ' ] ."
      ]
    },
    {
      "cell_type": "code",
      "execution_count": null,
      "id": "c047a839",
      "metadata": {
        "id": "c047a839",
        "colab": {
          "base_uri": "https://localhost:8080/"
        },
        "outputId": "922e95aa-dbd2-40a3-d4fd-85fdc226a569"
      },
      "outputs": [
        {
          "output_type": "execute_result",
          "data": {
            "text/plain": [
              "[]"
            ]
          },
          "metadata": {},
          "execution_count": 122
        }
      ],
      "source": [
        "output=[]\n",
        "output"
      ]
    },
    {
      "cell_type": "markdown",
      "id": "4949309d",
      "metadata": {
        "id": "4949309d"
      },
      "source": [
        "## Step 7\n",
        "Check if any digit and it's position in both `guess_number` and `original_number` are same then append 'Fermi' to `output` list or if only digit matches and not the position then append 'Pico' to `output`.\n"
      ]
    },
    {
      "cell_type": "code",
      "execution_count": null,
      "id": "7dbe3800",
      "metadata": {
        "id": "7dbe3800",
        "colab": {
          "base_uri": "https://localhost:8080/"
        },
        "outputId": "194f1077-0473-4576-a565-64cf186489ca"
      },
      "outputs": [
        {
          "output_type": "execute_result",
          "data": {
            "text/plain": [
              "['Firmi', 'Pico', 'Pico']"
            ]
          },
          "metadata": {},
          "execution_count": 123
        }
      ],
      "source": [
        "for i in range (len(original_number)):\n",
        "  if guess_number[i] == original_number[i]:\n",
        "    output.append('Firmi')\n",
        "  elif guess_number[i] in original_number:\n",
        "     output.append('Pico')\n",
        "output"
      ]
    },
    {
      "cell_type": "markdown",
      "id": "59e62457",
      "metadata": {
        "id": "59e62457"
      },
      "source": [
        "## Step 8\n",
        "Define a variable called `output_string` which has all values from a list `output` with each value separated by space. (Use 'for' loop to get all the values from a list `output`.)"
      ]
    },
    {
      "cell_type": "code",
      "execution_count": null,
      "id": "d15c8f60",
      "metadata": {
        "id": "d15c8f60",
        "colab": {
          "base_uri": "https://localhost:8080/"
        },
        "outputId": "3a12306a-b33a-470e-a12d-f33a507bcfd8"
      },
      "outputs": [
        {
          "output_type": "stream",
          "name": "stdout",
          "text": [
            "Firmi,Pico,Pico,"
          ]
        }
      ],
      "source": [
        "for i in output:\n",
        "  output_string=i\n",
        "  \n",
        "  print(output_string, end=',')\n"
      ]
    },
    {
      "cell_type": "code",
      "source": [],
      "metadata": {
        "colab": {
          "base_uri": "https://localhost:8080/"
        },
        "id": "kCgBBQGfRLTv",
        "outputId": "77c8b443-e04e-45e0-edeb-2cfffc3b1faa"
      },
      "id": "kCgBBQGfRLTv",
      "execution_count": null,
      "outputs": [
        {
          "output_type": "execute_result",
          "data": {
            "text/plain": [
              "('Firmi', 'Pico', 'Pico')"
            ]
          },
          "metadata": {},
          "execution_count": 107
        }
      ]
    },
    {
      "cell_type": "markdown",
      "id": "f3f50bef",
      "metadata": {
        "id": "f3f50bef"
      },
      "source": [
        "## Step 9\n",
        "Check if neither any digit nor any position matches i.e. if length of `output` list is zero then print `Bagel`.\n",
        "\n",
        "Otherwise print `output_string`."
      ]
    },
    {
      "cell_type": "code",
      "execution_count": null,
      "id": "3c568356",
      "metadata": {
        "id": "3c568356"
      },
      "outputs": [],
      "source": [
        "if len(output_string)==0:\n",
        "  print('Bagel')\n"
      ]
    },
    {
      "cell_type": "markdown",
      "id": "9d4a684d",
      "metadata": {
        "id": "9d4a684d"
      },
      "source": [
        "## Step 10\n",
        "\n",
        "## Complete game\n",
        "Here use continue and break statements at appropriate places."
      ]
    },
    {
      "cell_type": "code",
      "execution_count": null,
      "id": "79843cdf",
      "metadata": {
        "id": "79843cdf",
        "colab": {
          "base_uri": "https://localhost:8080/"
        },
        "outputId": "335d3bd3-3da3-4e11-8eef-4eec8dc3ba62"
      },
      "outputs": [
        {
          "output_type": "stream",
          "name": "stdout",
          "text": [
            "Original Number123\n",
            "Guess Number345\n",
            "Pico ,Guess Number234\n",
            "Pico Pico ,Guess Number124\n",
            "Fermi Fermi ,Guess Number123\n",
            "You win\n",
            "Fermi! Fermi! Fermi! "
          ]
        }
      ],
      "source": [
        "original_number = (input('Original Number'))\n",
        "\n",
        "while True:\n",
        " guess_number = input('Guess Number')\n",
        " output=[]\n",
        " output_string=''\n",
        "\n",
        " if len(original_number) != len(guess_number):\n",
        "  print('Enter valid input')\n",
        "  continue\n",
        "  \n",
        " if len(set(guess_number))<len(original_number):\n",
        "   \n",
        "   print('Duplicate number')\n",
        "   continue\n",
        " if guess_number == original_number:\n",
        "  print('You win')\n",
        "  for i in range(len(guess_number)):\n",
        "    print('Fermi!', end=' ')\n",
        "  break\n",
        "\n",
        " for i in range (len(original_number)):\n",
        "  if guess_number[i] == original_number[i]:\n",
        "    output.append('Fermi')\n",
        "  elif guess_number[i] in original_number:\n",
        "     output.append('Pico')\n",
        "     #output\n",
        " for i in output:\n",
        "   output_string+=i+\" \"\n",
        " print(output_string, end=',')\n",
        " if len(output_string)==0:\n",
        "   print('Bagel')\n",
        "\n",
        "\n",
        "## create infinite while loop\n",
        "\n",
        "## step 2 and step 6\n",
        "\n",
        "## step 3 and step 4 (use continue statement)\n",
        "\n",
        "## step 5 (use break statement for winning condition)\n",
        "\n",
        "## step 7\n",
        "\n",
        "## step 8\n",
        "\n",
        "## step 9"
      ]
    },
    {
      "cell_type": "code",
      "source": [
        "o = ['Fermi','Pico','Fermi']\n",
        "','.join(o)"
      ],
      "metadata": {
        "colab": {
          "base_uri": "https://localhost:8080/",
          "height": 36
        },
        "id": "IM5LMLgqVFk4",
        "outputId": "9b969120-5242-4110-ddd5-656823e8ec00"
      },
      "id": "IM5LMLgqVFk4",
      "execution_count": null,
      "outputs": [
        {
          "output_type": "execute_result",
          "data": {
            "text/plain": [
              "'Fermi,Pico,Fermi'"
            ],
            "application/vnd.google.colaboratory.intrinsic+json": {
              "type": "string"
            }
          },
          "metadata": {},
          "execution_count": 128
        }
      ]
    },
    {
      "cell_type": "code",
      "source": [],
      "metadata": {
        "id": "8iQREI6HVXJO"
      },
      "id": "8iQREI6HVXJO",
      "execution_count": null,
      "outputs": []
    }
  ],
  "metadata": {
    "kernelspec": {
      "display_name": "Python 3",
      "language": "python",
      "name": "python3"
    },
    "language_info": {
      "codemirror_mode": {
        "name": "ipython",
        "version": 3
      },
      "file_extension": ".py",
      "mimetype": "text/x-python",
      "name": "python",
      "nbconvert_exporter": "python",
      "pygments_lexer": "ipython3",
      "version": "3.8.8"
    },
    "colab": {
      "provenance": [],
      "collapsed_sections": []
    }
  },
  "nbformat": 4,
  "nbformat_minor": 5
}